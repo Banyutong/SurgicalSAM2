{
 "cells": [
  {
   "cell_type": "code",
   "execution_count": 1,
   "metadata": {},
   "outputs": [],
   "source": [
    "from pycocotools.coco import COCO\n",
    "import numpy as np"
   ]
  },
  {
   "cell_type": "code",
   "execution_count": 2,
   "metadata": {},
   "outputs": [
    {
     "name": "stdout",
     "output_type": "stream",
     "text": [
      "loading annotations into memory...\n",
      "Done (t=0.01s)\n",
      "creating index...\n",
      "index created!\n",
      "Loading and preparing results...\n",
      "DONE (t=0.01s)\n",
      "creating index...\n",
      "index created!\n"
     ]
    }
   ],
   "source": [
    "cocoGT = COCO(\"coco_annotations.json\")\n",
    "cocoDT = cocoGT.loadRes(\"output/points/predict.json\")"
   ]
  },
  {
   "cell_type": "code",
   "execution_count": 3,
   "metadata": {},
   "outputs": [],
   "source": [
    "imgids = cocoGT.getImgIds()\n",
    "imgs = cocoGT.loadImgs(imgids)"
   ]
  },
  {
   "cell_type": "code",
   "execution_count": 4,
   "metadata": {},
   "outputs": [],
   "source": [
    "def caculate_iou(pred, gt):\n",
    "    \"\"\"\n",
    "    Calculate the Intersection over Union (IoU) between two masks.\n",
    "\n",
    "    Args:\n",
    "        pred (np.ndarray): Predicted mask.\n",
    "        gt (np.ndarray): Ground truth mask.\n",
    "\n",
    "    Returns:\n",
    "        float: IoU value.\n",
    "    \"\"\"\n",
    "    intersection = np.logical_and(pred, gt).sum()\n",
    "    union = np.logical_or(pred, gt).sum() + 1e-7\n",
    "    iou = intersection / union\n",
    "    return iou"
   ]
  },
  {
   "cell_type": "code",
   "execution_count": 5,
   "metadata": {},
   "outputs": [],
   "source": [
    "def caculate_dice(pred, gt):\n",
    "    intersection = np.sum(pred * gt)\n",
    "    dice_score = (2. * intersection) / (np.sum(pred) + np.sum(gt) + 1e-7)\n",
    "    return dice_score"
   ]
  },
  {
   "cell_type": "code",
   "execution_count": 6,
   "metadata": {},
   "outputs": [],
   "source": [
    "def caculate_mae(y_true, y_pred):\n",
    "    return np.mean(np.abs(y_true - y_pred))"
   ]
  },
  {
   "cell_type": "code",
   "execution_count": 7,
   "metadata": {},
   "outputs": [
    {
     "name": "stderr",
     "output_type": "stream",
     "text": [
      "/tmp/ipykernel_338892/1372041296.py:50: RuntimeWarning: Mean of empty slice\n",
      "  img_score[\"avg_scores\"][\"iou\"] = np.nanmean(avg_iou) if len(avg_iou) > 0 else np.nan\n",
      "/tmp/ipykernel_338892/1372041296.py:51: RuntimeWarning: Mean of empty slice\n",
      "  img_score[\"avg_scores\"][\"mae\"] = np.nanmean(avg_mae) if len(avg_mae) > 0 else np.nan\n",
      "/tmp/ipykernel_338892/1372041296.py:52: RuntimeWarning: Mean of empty slice\n",
      "  img_score[\"avg_scores\"][\"dice\"] = np.nanmean(avg_dice) if len(avg_dice) > 0 else np.nan\n"
     ]
    }
   ],
   "source": [
    "video_id_set = set()\n",
    "\n",
    "img_scores = []\n",
    "\n",
    "for img in imgs:\n",
    "    anns_dt = cocoDT.loadAnns(cocoDT.getAnnIds(imgIds=img[\"id\"]))\n",
    "    anns_gt = cocoGT.loadAnns(cocoGT.getAnnIds(imgIds=img[\"id\"]))\n",
    "\n",
    "    all_iou = {cat_id: [] for cat_id in cocoDT.getCatIds()}\n",
    "    all_mae = {cat_id: [] for cat_id in cocoDT.getCatIds()}\n",
    "    all_dice = {cat_id: [] for cat_id in cocoDT.getCatIds()}\n",
    "\n",
    "\n",
    "    img_score = {\n",
    "        \"video_id\": img[\"video_id\"],\n",
    "        \"order_in_video\": img[\"order_in_video\"],\n",
    "        \"cat_scores\": {cat_id: {\"iou\": None, \"mae\": None, \"dice\": None} for cat_id in cocoDT.getCatIds()},\n",
    "        \"avg_scores\": {\"iou\": None, \"mae\": None, \"dice\": None},\n",
    "    }\n",
    "\n",
    "    for ann_dt in anns_dt:\n",
    "        for ann_gt in anns_gt:\n",
    "\n",
    "            if ann_dt[\"category_id\"] == ann_gt[\"category_id\"]:\n",
    "                \n",
    "                mask_dt = cocoDT.annToMask(ann_dt)\n",
    "                mask_gt = cocoGT.annToMask(ann_gt)\n",
    "                iou = caculate_iou(mask_dt, mask_gt)\n",
    "                mae = caculate_mae(mask_dt, mask_gt)\n",
    "                dice = caculate_dice(mask_dt, mask_gt)\n",
    "                \n",
    "                all_iou[ann_dt[\"category_id\"]].append(iou)\n",
    "                all_mae[ann_dt[\"category_id\"]].append(mae)\n",
    "                all_dice[ann_dt[\"category_id\"]].append(dice)\n",
    "                \n",
    "    avg_iou = []\n",
    "    avg_mae = []\n",
    "    avg_dice = []\n",
    "    \n",
    "    for cat_id in cocoDT.getCatIds():\n",
    "        img_score[\"cat_scores\"][cat_id][\"iou\"] = np.nanmean(all_iou[cat_id]) if len(all_iou[cat_id]) > 0 else np.nan\n",
    "        img_score[\"cat_scores\"][cat_id][\"mae\"] = np.nanmean(all_mae[cat_id]) if len(all_mae[cat_id]) > 0 else np.nan\n",
    "        img_score[\"cat_scores\"][cat_id][\"dice\"] = np.nanmean(all_dice[cat_id]) if len(all_dice[cat_id]) > 0 else np.nan\n",
    "        \n",
    "        avg_iou.append(img_score[\"cat_scores\"][cat_id][\"iou\"])\n",
    "        avg_mae.append(img_score[\"cat_scores\"][cat_id][\"mae\"])\n",
    "        avg_dice.append(img_score[\"cat_scores\"][cat_id][\"dice\"])\n",
    "\n",
    "        \n",
    "    img_score[\"avg_scores\"][\"iou\"] = np.nanmean(avg_iou) if len(avg_iou) > 0 else np.nan\n",
    "    img_score[\"avg_scores\"][\"mae\"] = np.nanmean(avg_mae) if len(avg_mae) > 0 else np.nan\n",
    "    img_score[\"avg_scores\"][\"dice\"] = np.nanmean(avg_dice) if len(avg_dice) > 0 else np.nan\n",
    "    \n",
    "    video_id_set.add(img[\"video_id\"])\n",
    "    img_scores.append(img_score)\n",
    "\n"
   ]
  },
  {
   "cell_type": "code",
   "execution_count": 8,
   "metadata": {},
   "outputs": [],
   "source": [
    "def get_dicts_by_field_value(data, field_name, target_value):\n",
    "    \"\"\"\n",
    "    从字典列表中获取特定字段具有指定值的所有字典。\n",
    "\n",
    "    参数：\n",
    "        data: 字典列表\n",
    "        field_name: 要检查的字段名称\n",
    "        target_value: 字段的目标值\n",
    "\n",
    "    返回：\n",
    "        包含符合条件的字典的新列表\n",
    "    \"\"\"\n",
    "    return [item for item in data if item.get(field_name) == target_value]"
   ]
  },
  {
   "cell_type": "code",
   "execution_count": 9,
   "metadata": {},
   "outputs": [],
   "source": [
    "video_scores = []"
   ]
  },
  {
   "cell_type": "code",
   "execution_count": 10,
   "metadata": {},
   "outputs": [
    {
     "name": "stderr",
     "output_type": "stream",
     "text": [
      "/tmp/ipykernel_338892/747448669.py:22: RuntimeWarning: Mean of empty slice\n",
      "  video_score[\"cat_scores\"][key]['iou'] = np.nanmean(all_iou[key])\n",
      "/tmp/ipykernel_338892/747448669.py:23: RuntimeWarning: Mean of empty slice\n",
      "  video_score[\"cat_scores\"][key]['mae'] = np.nanmean(all_mae[key])\n",
      "/tmp/ipykernel_338892/747448669.py:24: RuntimeWarning: Mean of empty slice\n",
      "  video_score[\"cat_scores\"][key]['dice'] = np.nanmean(all_dice[key])\n",
      "/tmp/ipykernel_338892/747448669.py:33: RuntimeWarning: Mean of empty slice\n",
      "  video_score[\"cat_scores\"][cat_id][\"iou\"] = np.nanmean(all_iou[cat_id]) if len(all_iou[cat_id]) > 0 else np.nan\n",
      "/tmp/ipykernel_338892/747448669.py:34: RuntimeWarning: Mean of empty slice\n",
      "  video_score[\"cat_scores\"][cat_id][\"mae\"] = np.nanmean(all_mae[cat_id]) if len(all_mae[cat_id]) > 0 else np.nan\n",
      "/tmp/ipykernel_338892/747448669.py:35: RuntimeWarning: Mean of empty slice\n",
      "  video_score[\"cat_scores\"][cat_id][\"dice\"] = np.nanmean(all_dice[cat_id]) if len(all_dice[cat_id]) > 0 else np.nan\n"
     ]
    }
   ],
   "source": [
    "for video_id in video_id_set:\n",
    "    frames = get_dicts_by_field_value(img_scores, \"video_id\", video_id)\n",
    "    \n",
    "    video_score = {\n",
    "        \"video_id\": video_id,\n",
    "        \"frames\": frames,\n",
    "        \"cat_scores\": {cat_id: {\"iou\": None, \"mae\": None, \"dice\": None} for cat_id in cocoDT.getCatIds()},\n",
    "        \"avg_scores\": {\"iou\": None, \"mae\": None, \"dice\": None},\n",
    "    }\n",
    "    \n",
    "    all_iou = {cat_id: [] for cat_id in cocoDT.getCatIds()}\n",
    "    all_mae = {cat_id: [] for cat_id in cocoDT.getCatIds()}\n",
    "    all_dice = {cat_id: [] for cat_id in cocoDT.getCatIds()}\n",
    "    \n",
    "    for frame in frames:\n",
    "        for category_id, category_data in frame[\"cat_scores\"].items():\n",
    "            all_iou[category_id].append(category_data[\"iou\"]) \n",
    "            all_mae[category_id].append(category_data[\"mae\"])\n",
    "            all_dice[category_id].append(category_data[\"dice\"])\n",
    "            \n",
    "    for key in cocoDT.getCatIds():\n",
    "        video_score[\"cat_scores\"][key]['iou'] = np.nanmean(all_iou[key]) \n",
    "        video_score[\"cat_scores\"][key]['mae'] = np.nanmean(all_mae[key])\n",
    "        video_score[\"cat_scores\"][key]['dice'] = np.nanmean(all_dice[key])\n",
    "        \n",
    "    # print(all_iou)\n",
    "        \n",
    "    avg_iou = []\n",
    "    avg_mae = []\n",
    "    avg_dice = []\n",
    "    \n",
    "    for cat_id in cocoDT.getCatIds():\n",
    "        video_score[\"cat_scores\"][cat_id][\"iou\"] = np.nanmean(all_iou[cat_id]) if len(all_iou[cat_id]) > 0 else np.nan\n",
    "        video_score[\"cat_scores\"][cat_id][\"mae\"] = np.nanmean(all_mae[cat_id]) if len(all_mae[cat_id]) > 0 else np.nan\n",
    "        video_score[\"cat_scores\"][cat_id][\"dice\"] = np.nanmean(all_dice[cat_id]) if len(all_dice[cat_id]) > 0 else np.nan\n",
    "        \n",
    "        avg_iou.append(video_score[\"cat_scores\"][cat_id][\"iou\"])\n",
    "        avg_mae.append(video_score[\"cat_scores\"][cat_id][\"mae\"])\n",
    "        avg_dice.append(video_score[\"cat_scores\"][cat_id][\"dice\"])\n",
    "\n",
    "    \n",
    "    video_score[\"avg_scores\"][\"iou\"] = np.nanmean(avg_iou) if len(avg_iou) > 0 else np.nan\n",
    "    video_score[\"avg_scores\"][\"mae\"] = np.nanmean(avg_mae) if len(avg_mae) > 0 else np.nan\n",
    "    video_score[\"avg_scores\"][\"dice\"] = np.nanmean(avg_dice) if len(avg_dice) > 0 else np.nan\n",
    "    \n",
    "    video_scores.append(video_score)\n",
    "    "
   ]
  },
  {
   "cell_type": "code",
   "execution_count": 11,
   "metadata": {},
   "outputs": [],
   "source": [
    "result = {\"videos\": video_scores, \"cat_scores\": {cat_id: {\"iou\": None, \"mae\": None, \"dice\": None} for cat_id in cocoDT.getCatIds()},\n",
    "        \"avg_scores\": {\"iou\": None, \"mae\": None, \"dice\": None},}"
   ]
  },
  {
   "cell_type": "code",
   "execution_count": 12,
   "metadata": {},
   "outputs": [],
   "source": [
    "all_iou = {cat_id: [] for cat_id in cocoDT.getCatIds()}\n",
    "all_mae = {cat_id: [] for cat_id in cocoDT.getCatIds()}\n",
    "all_dice = {cat_id: [] for cat_id in cocoDT.getCatIds()}\n",
    "\n",
    "for video_data in result[\"videos\"]:\n",
    "    for category_id, category_data in video_data[\"cat_scores\"].items():\n",
    "        all_iou[category_id].append(category_data[\"iou\"]) \n",
    "        all_mae[category_id].append(category_data[\"mae\"])\n",
    "        all_dice[category_id].append(category_data[\"dice\"])\n",
    "        \n",
    "for key in cocoDT.getCatIds():\n",
    "    result[\"cat_scores\"][key]['iou'] = np.nanmean(all_iou[key]) \n",
    "    result[\"cat_scores\"][key]['mae'] = np.nanmean(all_mae[key])\n",
    "    result[\"cat_scores\"][key]['dice'] = np.nanmean(all_dice[key])\n",
    "    \n",
    "# print(all_iou)\n",
    "    \n",
    "avg_iou = []\n",
    "avg_mae = []\n",
    "avg_dice = []\n",
    "\n",
    "for cat_id in cocoDT.getCatIds():\n",
    "    result[\"cat_scores\"][cat_id][\"iou\"] = np.nanmean(all_iou[cat_id]) if len(all_iou[cat_id]) > 0 else np.nan\n",
    "    result[\"cat_scores\"][cat_id][\"mae\"] = np.nanmean(all_mae[cat_id]) if len(all_mae[cat_id]) > 0 else np.nan\n",
    "    result[\"cat_scores\"][cat_id][\"dice\"] = np.nanmean(all_dice[cat_id]) if len(all_dice[cat_id]) > 0 else np.nan\n",
    "    \n",
    "    avg_iou.append(result[\"cat_scores\"][cat_id][\"iou\"])\n",
    "    avg_mae.append(result[\"cat_scores\"][cat_id][\"mae\"])\n",
    "    avg_dice.append(result[\"cat_scores\"][cat_id][\"dice\"])\n",
    "\n",
    "\n",
    "result[\"avg_scores\"][\"iou\"] = np.nanmean(avg_iou) if len(avg_iou) > 0 else np.nan\n",
    "result[\"avg_scores\"][\"mae\"] = np.nanmean(avg_mae) if len(avg_mae) > 0 else np.nan\n",
    "result[\"avg_scores\"][\"dice\"] = np.nanmean(avg_dice) if len(avg_dice) > 0 else np.nan"
   ]
  },
  {
   "cell_type": "code",
   "execution_count": 13,
   "metadata": {},
   "outputs": [
    {
     "data": {
      "text/plain": [
       "{'iou': np.float64(0.2978882613381307),\n",
       " 'mae': np.float64(2.0186018619548944),\n",
       " 'dice': np.float64(0.3735391090851365)}"
      ]
     },
     "execution_count": 13,
     "metadata": {},
     "output_type": "execute_result"
    }
   ],
   "source": [
    "result['avg_scores'] "
   ]
  },
  {
   "cell_type": "code",
   "execution_count": 15,
   "metadata": {},
   "outputs": [
    {
     "name": "stdout",
     "output_type": "stream",
     "text": [
      "loading annotations into memory...\n",
      "Done (t=0.01s)\n",
      "creating index...\n",
      "index created!\n",
      "Loading and preparing results...\n",
      "DONE (t=0.02s)\n",
      "creating index...\n",
      "index created!\n"
     ]
    }
   ],
   "source": [
    "from eval import eval\n",
    "eval(\"output/points/predict.json\", \"coco_annotations.json\", \"output\")"
   ]
  },
  {
   "cell_type": "code",
   "execution_count": null,
   "metadata": {},
   "outputs": [],
   "source": []
  }
 ],
 "metadata": {
  "kernelspec": {
   "display_name": "sam2",
   "language": "python",
   "name": "python3"
  },
  "language_info": {
   "codemirror_mode": {
    "name": "ipython",
    "version": 3
   },
   "file_extension": ".py",
   "mimetype": "text/x-python",
   "name": "python",
   "nbconvert_exporter": "python",
   "pygments_lexer": "ipython3",
   "version": "3.12.3"
  }
 },
 "nbformat": 4,
 "nbformat_minor": 2
}
