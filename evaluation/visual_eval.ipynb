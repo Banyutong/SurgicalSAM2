{
 "cells": [
  {
   "cell_type": "code",
   "execution_count": null,
   "metadata": {},
   "outputs": [],
   "source": [
    "import pickle\n",
    "from matplotlib import pyplot as plt\n",
    "import numpy as np"
   ]
  },
  {
   "cell_type": "code",
   "execution_count": null,
   "metadata": {},
   "outputs": [],
   "source": [
    "def sort_dicts_by_field(data, field_name, reverse=False):\n",
    "    \"\"\"\n",
    "    按照指定字段的值对字典列表进行排序。\n",
    "\n",
    "    参数：\n",
    "        data: 字典列表\n",
    "        field_name: 用于排序的字段名称\n",
    "        reverse: 是否降序排列 (默认为 False，即升序排列)\n",
    "\n",
    "    返回：\n",
    "        排序后的新字典列表\n",
    "    \"\"\"\n",
    "    return sorted(data, key=lambda item: item.get(field_name), reverse=reverse)"
   ]
  },
  {
   "cell_type": "code",
   "execution_count": null,
   "metadata": {},
   "outputs": [],
   "source": [
    "with open(\"output/eval.pkl\", \"rb\") as f:\n",
    "    result = pickle.load(f)"
   ]
  },
  {
   "cell_type": "code",
   "execution_count": null,
   "metadata": {},
   "outputs": [],
   "source": [
    "frames = result[\"videos\"][0][\"frames\"]"
   ]
  },
  {
   "cell_type": "code",
   "execution_count": null,
   "metadata": {},
   "outputs": [],
   "source": [
    "frames = sort_dicts_by_field(frames, \"order_in_video\")"
   ]
  },
  {
   "cell_type": "code",
   "execution_count": null,
   "metadata": {},
   "outputs": [],
   "source": [
    "frames[0]"
   ]
  },
  {
   "cell_type": "code",
   "execution_count": null,
   "metadata": {},
   "outputs": [],
   "source": [
    "y_iou = {cat_id: [] for cat_id in frames[0][\"cat_scores\"].keys()}\n",
    "y_mae = {cat_id: [] for cat_id in frames[0][\"cat_scores\"].keys()}\n",
    "y_dice = {cat_id: [] for cat_id in frames[0][\"cat_scores\"].keys()}\n",
    "avg_iou = []\n",
    "avg_mae = []\n",
    "avg_dice = []\n",
    "\n",
    "x = []\n"
   ]
  },
  {
   "cell_type": "code",
   "execution_count": null,
   "metadata": {},
   "outputs": [],
   "source": [
    "for frame in frames:\n",
    "    x.append(frame['order_in_video'])\n",
    "    \n",
    "    for key, cat_scores in frame['cat_scores'].items():\n",
    "        y_iou[key].append(cat_scores['iou'])\n",
    "        y_mae[key].append(cat_scores['mae'])\n",
    "        y_dice[key].append(cat_scores['dice'])\n",
    "        \n",
    "    avg_iou.append(frame['avg_scores']['iou'])\n",
    "    avg_mae.append(frame['avg_scores']['mae'])\n",
    "    avg_dice.append(frame['avg_scores']['dice'])\n",
    "    \n",
    "    "
   ]
  },
  {
   "cell_type": "code",
   "execution_count": null,
   "metadata": {},
   "outputs": [],
   "source": [
    "import matplotlib.pyplot as plt\n",
    "\n",
    "# 假设你已经有如下的数据结构\n",
    "# y_iou, y_mae, y_dice, avg_iou, avg_mae, avg_dice, x\n",
    "\n",
    "# 创建一个包含3个子图的图表\n",
    "fig, axs = plt.subplots(3, 1, figsize=(10, 15))\n",
    "\n",
    "plt.suptitle('Score Analysis', fontsize=16)\n",
    "\n",
    "# 绘制IOU图\n",
    "for cat_id, iou_scores in y_iou.items():\n",
    "    axs[0].plot(x, iou_scores, label=f'Category {cat_id}')\n",
    "axs[0].plot(x, avg_iou, label='Average', linestyle='--')\n",
    "axs[0].set_title('IOU Scores')\n",
    "axs[0].set_xlabel('Frame Order in Video')\n",
    "axs[0].set_ylabel('IOU')\n",
    "axs[0].legend()\n",
    "\n",
    "# 绘制MAE图\n",
    "for cat_id, mae_scores in y_mae.items():\n",
    "    axs[1].plot(x, mae_scores, label=f'Category {cat_id}')\n",
    "axs[1].plot(x, avg_mae, label='Average', linestyle='--')\n",
    "axs[1].set_title('MAE Scores')\n",
    "axs[1].set_xlabel('Frame Order in Video')\n",
    "axs[1].set_ylabel('MAE')\n",
    "axs[1].legend()\n",
    "\n",
    "# 绘制DICE图\n",
    "for cat_id, dice_scores in y_dice.items():\n",
    "    axs[2].plot(x, dice_scores, label=f'Category {cat_id}')\n",
    "axs[2].plot(x, avg_dice, label='Average', linestyle='--')\n",
    "axs[2].set_title('DICE Scores')\n",
    "axs[2].set_xlabel('Frame Order in Video')\n",
    "axs[2].set_ylabel('DICE')\n",
    "axs[2].legend()\n",
    "\n",
    "# 调整子图之间的间距\n",
    "plt.tight_layout()\n",
    "plt.subplots_adjust(top=0.95)\n",
    "\n",
    "# 显示图表\n",
    "plt.show()\n",
    "\n",
    "plt.savefig(\"output/points/eval.png\")"
   ]
  },
  {
   "cell_type": "code",
   "execution_count": 3,
   "metadata": {},
   "outputs": [],
   "source": [
    "from visual_eval import plot_scores\n",
    "\n",
    "plot_scores(\"output/bbox/eval.pkl\", \"output/bbox\")"
   ]
  },
  {
   "cell_type": "code",
   "execution_count": null,
   "metadata": {},
   "outputs": [],
   "source": []
  }
 ],
 "metadata": {
  "kernelspec": {
   "display_name": "sam2",
   "language": "python",
   "name": "python3"
  },
  "language_info": {
   "codemirror_mode": {
    "name": "ipython",
    "version": 3
   },
   "file_extension": ".py",
   "mimetype": "text/x-python",
   "name": "python",
   "nbconvert_exporter": "python",
   "pygments_lexer": "ipython3",
   "version": "3.12.3"
  }
 },
 "nbformat": 4,
 "nbformat_minor": 2
}
