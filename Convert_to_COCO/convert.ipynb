{
 "cells": [
  {
   "cell_type": "code",
   "execution_count": null,
   "metadata": {},
   "outputs": [],
   "source": [
    "import numpy as np\n",
    "from PIL import Image\n",
    "import pycocotools.mask as mask_util\n",
    "import json\n",
    "import cv2\n"
   ]
  },
  {
   "cell_type": "code",
   "execution_count": null,
   "metadata": {},
   "outputs": [],
   "source": [
    "img_count = 1\n",
    "ann_count = 1"
   ]
  },
  {
   "cell_type": "code",
   "execution_count": null,
   "metadata": {},
   "outputs": [],
   "source": [
    "colors = set()"
   ]
  },
  {
   "cell_type": "code",
   "execution_count": null,
   "metadata": {},
   "outputs": [],
   "source": [
    "def get_colors(image_path, max_colors=1000):\n",
    "    # 打开图像\n",
    "    image = Image.open(image_path)\n",
    "    # 将图像转换为RGB模式\n",
    "    image = image.convert(\"RGB\")\n",
    "    # 获取图像的宽度和高度\n",
    "    width, height = image.size\n",
    "    \n",
    "    # 创建一个集合来存储颜色\n",
    "    \n",
    "    # 遍历图像的每个像素\n",
    "    for x in range(width):\n",
    "        for y in range(height):\n",
    "            # 获取像素的颜色\n",
    "            r, g, b = image.getpixel((x, y))\n",
    "            # 将颜色添加到集合中\n",
    "            colors.add((r, g, b))\n",
    "            \n",
    "            # 如果颜色数量达到最大值，停止遍历\n",
    "            if len(colors) >= max_colors:\n",
    "                break\n",
    "        if len(colors) >= max_colors:\n",
    "            break\n",
    "    \n",
    "    return colors"
   ]
  },
  {
   "cell_type": "code",
   "execution_count": null,
   "metadata": {},
   "outputs": [],
   "source": [
    "def create_coco_categories(class_dict):\n",
    "    categories = []\n",
    "    for class_id, class_name in class_dict.items():\n",
    "        category = {\n",
    "            \"id\": int(class_id) + 1,\n",
    "            \"name\": class_name,\n",
    "            \"supercategory\": \"\"  # 如果需要supercategory，可以在这里添加\n",
    "        }\n",
    "        categories.append(category)\n",
    "    return categories"
   ]
  },
  {
   "cell_type": "code",
   "execution_count": null,
   "metadata": {},
   "outputs": [],
   "source": [
    "def get_dicts_by_field_value(data, field_name, target_value):\n",
    "    return [item for item in data if item.get(field_name) == target_value]\n",
    "\n",
    "def sort_dicts_by_field(data, field_name, reverse=False):\n",
    "    return sorted(data, key=lambda item: item.get(field_name), reverse=reverse)"
   ]
  },
  {
   "cell_type": "code",
   "execution_count": null,
   "metadata": {},
   "outputs": [],
   "source": [
    "def rgb_to_coco(image_path, image_id, color_to_category_id):\n",
    "    # 打开RGB图像\n",
    "    img = Image.open(image_path)\n",
    "    img_array = np.array(img)\n",
    "    \n",
    "    # 初始化COCO格式的annotation列表\n",
    "    annotations = []\n",
    "    \n",
    "    # 遍历每个颜色到类别ID的映射\n",
    "    for color, category_id in color_to_category_id.items():\n",
    "        # 获取当前颜色的掩码\n",
    "        color_mask = np.all(img_array == np.array(color).reshape(1, 1, 3), axis=2).astype(np.uint8)\n",
    "        \n",
    "        # 如果当前颜色在图像中不存在，跳过\n",
    "        if np.sum(color_mask) == 0:\n",
    "            continue\n",
    "        \n",
    "        # 将掩码转换为RLE格式\n",
    "        rle = mask_util.encode(np.asfortranarray(color_mask))\n",
    "        \n",
    "        # 计算面积\n",
    "        area = mask_util.area(rle)\n",
    "        \n",
    "        # 获取边界框\n",
    "        bbox = mask_util.toBbox(rle).tolist()\n",
    "        \n",
    "        # 创建annotation字典\n",
    "        annotation = {\n",
    "            \"id\": ann_count,  # 假设annotation ID从1开始递增\n",
    "            \"image_id\": image_id,\n",
    "            \"category_id\": category_id,\n",
    "            \"segmentation\": rle,\n",
    "            \"area\": area.item(),\n",
    "            \"bbox\": bbox,\n",
    "            \"iscrowd\": 0\n",
    "        }\n",
    "        \n",
    "        # 添加到annotations列表\n",
    "        annotations.append(annotation)\n",
    "        ann_count += 1\n",
    "    \n",
    "    return annotations"
   ]
  },
  {
   "cell_type": "code",
   "execution_count": null,
   "metadata": {},
   "outputs": [],
   "source": [
    "def gray_to_coco(image_path, image_id, category_ids):\n",
    "    global ann_count\n",
    "    # 打开灰度图像\n",
    "    img = Image.open(image_path).convert('L')\n",
    "    img_array = np.array(img)\n",
    "    unique = np.unique(img_array)\n",
    "    \n",
    "    # 初始化COCO格式的annotation列表\n",
    "    annotations = []\n",
    "\n",
    "    \n",
    "    for category_id in category_ids:\n",
    "        # print(np.unique(img_array))\n",
    "\n",
    "        # 获取当前类别的掩码\n",
    "        mask = (img_array == category_id).astype(np.uint8)\n",
    "\n",
    "        # 如果当前类别在图像中不存在，跳过\n",
    "        if np.sum(mask) == 0:\n",
    "            continue\n",
    "\n",
    "        # 将掩码转换为RLE格式\n",
    "        rle = mask_util.encode(np.asfortranarray(mask))\n",
    "\n",
    "        # 计算面积\n",
    "        area = mask_util.area(rle)\n",
    "\n",
    "        # 获取边界框\n",
    "        bbox = mask_util.toBbox(rle).tolist()\n",
    "\n",
    "        # 创建annotation字典\n",
    "        annotation = {\n",
    "            \"id\": ann_count,  # 假设annotation ID从1开始递增\n",
    "            \"image_id\": image_id,\n",
    "            \"category_id\": category_id,\n",
    "            \"segmentation\": rle,\n",
    "            \"area\": area.item(),\n",
    "            \"bbox\": bbox,\n",
    "            \"iscrowd\": 0,\n",
    "        }\n",
    "\n",
    "        # 添加到annotations列表\n",
    "        annotations.append(annotation)\n",
    "        ann_count += 1\n",
    "\n",
    "    return annotations"
   ]
  },
  {
   "cell_type": "code",
   "execution_count": null,
   "metadata": {},
   "outputs": [],
   "source": [
    "with open(\"raw_info_cholec_seg8k.json\", \"r\") as f:\n",
    "    raw_info = json.load(f)"
   ]
  },
  {
   "cell_type": "code",
   "execution_count": null,
   "metadata": {},
   "outputs": [],
   "source": [
    "video_id_set = set()\n",
    "\n",
    "for frame in raw_info['frames']:\n",
    "    video_id_set.add(frame['video_id'])"
   ]
  },
  {
   "cell_type": "code",
   "execution_count": null,
   "metadata": {},
   "outputs": [],
   "source": [
    "all_frames = []\n",
    "cat_ids = raw_info['class_dict'].keys()"
   ]
  },
  {
   "cell_type": "code",
   "execution_count": null,
   "metadata": {},
   "outputs": [],
   "source": [
    "cat_ids = range(0,13)"
   ]
  },
  {
   "cell_type": "code",
   "execution_count": null,
   "metadata": {},
   "outputs": [],
   "source": []
  },
  {
   "cell_type": "code",
   "execution_count": null,
   "metadata": {},
   "outputs": [],
   "source": [
    "for video_id in video_id_set:\n",
    "    frames = get_dicts_by_field_value(raw_info['frames'], \"video_id\", video_id)\n",
    "    frames = sort_dicts_by_field(frames, \"file_name\")\n",
    "    \n",
    "    for idx, frame in enumerate(frames):\n",
    "        frame['order_in_video'] = idx\n",
    "        all_frames.append(frame)\n",
    "        \n",
    "        "
   ]
  },
  {
   "cell_type": "code",
   "execution_count": null,
   "metadata": {},
   "outputs": [],
   "source": [
    "all_frames"
   ]
  },
  {
   "cell_type": "code",
   "execution_count": null,
   "metadata": {},
   "outputs": [],
   "source": [
    "coco_images = []\n",
    "coco_annotations = []\n",
    "    "
   ]
  },
  {
   "cell_type": "code",
   "execution_count": null,
   "metadata": {},
   "outputs": [],
   "source": [
    "\n",
    "for frame in all_frames:\n",
    "    is_det_keyframe = frame['gt_path'] is not None\n",
    "    if is_det_keyframe == False:\n",
    "        continue\n",
    "    file_name = frame['file_name']\n",
    "    file_path = frame['file_path']\n",
    "    gt = cv2.imread(frame['gt_path'])\n",
    "    height, width = gt.shape[:2]\n",
    "    \n",
    "    img_info = {\n",
    "        'file_name': file_name,\n",
    "        'height': height,\n",
    "        'width': width,\n",
    "        'id': img_count,\n",
    "        'is_det_keyframe': is_det_keyframe,\n",
    "        'video_id': video_id,\n",
    "        'frame_id': None,\n",
    "        'order_in_video': frame['order_in_video']\n",
    "    }\n",
    "    \n",
    "    coco_images.append(img_info)\n",
    "    \n",
    "    # get_colors(file_path, max_colors=1000)\n",
    "    coco_annotations.extend(gray_to_coco(frame['gt_path'], img_count, np.arange(13)))\n",
    "    img_count += 1\n",
    "    \n",
    "    # break\n",
    "    \n",
    "    \n",
    "    "
   ]
  },
  {
   "cell_type": "code",
   "execution_count": null,
   "metadata": {},
   "outputs": [],
   "source": [
    "for ann in coco_annotations:\n",
    "    ann[\"segmentation\"][\"counts\"] = ann[\"segmentation\"][\"counts\"].decode(\"utf-8\")\n",
    "    # print(type(ann[\"category_id\"]))"
   ]
  },
  {
   "cell_type": "code",
   "execution_count": null,
   "metadata": {},
   "outputs": [],
   "source": [
    "coco_categories = create_coco_categories(raw_info['class_dict'])"
   ]
  },
  {
   "cell_type": "code",
   "execution_count": null,
   "metadata": {},
   "outputs": [],
   "source": [
    "coco_info = {\n",
    "    \"images\": coco_images,\n",
    "    \"annotations\": coco_annotations,\n",
    "    \"categories\": coco_categories,\n",
    "}"
   ]
  },
  {
   "cell_type": "code",
   "execution_count": null,
   "metadata": {},
   "outputs": [],
   "source": [
    "with open(\"coco_annotations.json\", \"w\") as f:\n",
    "    json.dump(coco_info, f, indent=4)"
   ]
  },
  {
   "cell_type": "code",
   "execution_count": null,
   "metadata": {},
   "outputs": [],
   "source": [
    "videos_info = []"
   ]
  },
  {
   "cell_type": "code",
   "execution_count": null,
   "metadata": {},
   "outputs": [],
   "source": [
    "for video_id in video_id_set:\n",
    "    current_video_frames = []\n",
    "    frames = get_dicts_by_field_value(raw_info['frames'], \"video_id\", video_id)\n",
    "    frames = sort_dicts_by_field(frames, \"file_name\")\n",
    "    \n",
    "    for idx, frame in enumerate(frames):\n",
    "        coco_frame = [img for img in coco_images if img['file_name'] == frame['file_name']][0]\n",
    "        frame['id'] = coco_frame['id']\n",
    "        frame['path'] = frame['file_path']\n",
    "        current_video_frames.append(frame)\n",
    "    videos_info.append({\n",
    "        \"video_id\": video_id,\n",
    "        \"frames\": current_video_frames\n",
    "    })"
   ]
  },
  {
   "cell_type": "code",
   "execution_count": null,
   "metadata": {},
   "outputs": [],
   "source": [
    "videos_info"
   ]
  },
  {
   "cell_type": "code",
   "execution_count": null,
   "metadata": {},
   "outputs": [],
   "source": [
    "with open(\"cholecseg8k_videos.json\",\"w\") as f:\n",
    "    json.dump(videos_info,f, indent=4)"
   ]
  }
 ],
 "metadata": {
  "kernelspec": {
   "display_name": "sam2",
   "language": "python",
   "name": "python3"
  },
  "language_info": {
   "codemirror_mode": {
    "name": "ipython",
    "version": 3
   },
   "file_extension": ".py",
   "mimetype": "text/x-python",
   "name": "python",
   "nbconvert_exporter": "python",
   "pygments_lexer": "ipython3",
   "version": "3.12.3"
  }
 },
 "nbformat": 4,
 "nbformat_minor": 2
}
