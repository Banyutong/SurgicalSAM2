{
 "cells": [
  {
   "cell_type": "code",
   "execution_count": 9,
   "metadata": {},
   "outputs": [],
   "source": [
    "from pycocotools.coco import COCO"
   ]
  },
  {
   "cell_type": "code",
   "execution_count": 10,
   "metadata": {},
   "outputs": [
    {
     "name": "stdout",
     "output_type": "stream",
     "text": [
      "loading annotations into memory...\n",
      "Done (t=0.01s)\n",
      "creating index...\n",
      "index created!\n"
     ]
    }
   ],
   "source": [
    "coco = COCO('gt_coco_annotations.json')"
   ]
  },
  {
   "cell_type": "code",
   "execution_count": 11,
   "metadata": {},
   "outputs": [
    {
     "data": {
      "text/plain": [
       "[{'id': 0,\n",
       "  'image_id': 0,\n",
       "  'category_id': 0,\n",
       "  'segmentation': {'size': [480, 854],\n",
       "   'counts': 'Q?n>2000000000000000000000000000000000000000000000000000000000000\\\\HU1SOkN62aIV2e5hMh0l2nNTMl0Z3lNfLo0e3kN[Lm0S4mNmKn0^4lNbKo0h4lNXKo0R5lNnJo0Z5nNfJo0b5lN^Jo0l5lNTJP1S6mNmIP1Z6lNfIP1a6mN_IP1h6lNXIP1o6mNQIP1U7mNkHP1[7mNeHQ1`7lN`HQ1f7lNZHP1m7mNSHQ1R8lNnGQ1X8lNhGQ1]8mNcGo0c8oN]Go0i8mNWGQ1m8mNSGQ1Q9mNoFQ1U9mNkFQ1Z9lNfFQ1_9mNaFQ1d9lN\\\\FR1h9lNXFQ1n9lNRFR1Q:mNoEQ1U:mNkEQ1Y:mNgEQ1]:mNcEQ1a:mN_EQ1e:mN[EQ1i:mNWEQ1m:mNSER1P;lNPER1T;lNlDR1X;lNhDR1[;mNeDQ1_;mNaDR1b;lN^DR1g;kNYDS1j;lNVDR1n;lNRDS1Q<kNoCS1T<lNlCR1X<lNhCS1Z<lNfCR1^<lNbCS1a<kN_CS1d<lN\\\\CR1g<mNYCR1j<lNVCR1n<lNRCS1Q=kNoBS1T=lNlBS1W=kNiBT1Y=kNgBS1]=kNcBS1`=lN`BR1c=mN]BR1e=mN[BR1j=N2O1O1N2O1O1N2O1O1N2O1O1O1O1N2O1O1O1O1N2O1O1O1O1O1O1NocT8OT\\\\kG000000000SA0j>0VA1i>OWA2h>NXA3g>MYA4f>LZA6d>J\\\\A7c>I]A8b>H^A9a>G_A:`>F`A<^>DbA=]>CcA>\\\\>BdA`0Z>@fA`0Z>@fAa0Y>_OgAc0W>]OiAd0V>\\\\OjAe0U>[OkAg0S>YOmAh0R>XOnAj0P>VOPBk0o=UOQBl0n=TORBm0m=SOSBo0k=QOUBP1j=POVBQ1i=oNWBS1g=mNYBT1f=lNZBV1c=kN]BV1`=lN`BU1^=lNbBV1[=kNeBV1X=lNhBV1U=kNkBV1R=lNnBV1o<kNQCV1l<lNTCU1j<lNVCU1g<mNYCU1c<mN]CT1`<nN`CS1^<nNbCT1Z<nNfCU1V<lNjCU1S<mNmCT1P<nNPDT1m;mNSDU1i;mNWDU1e;mN[DV1`;lN`DU1^;lNbDV1Z;lNfDV1V;lNjDV1R;lNnDV1n:lNREV1j:lNVEU1g:mNYEV1b:lN^EV1^:lNbEV1Z:lNfEV1V:lNjEV1R:lNnEV1n9lNRFV1j9lNVFW1e9kN[FW1`9lN`FV1\\\\9lNdFW1V9lNjFV1S9kNmFX1m8kNSGW1h8lNXGW1c8kN]GX1]8kNcGW1X8lNhGV1T8lNlGX1m7kNSHW1h7lNXHV1d7lN\\\\HW1]7mNcHV1W7mNiHW1P7lNPIW1i6mNWIU1f6lNZIX1]6mNcIW1U6mNkIW1o5kNQJY1f5lNZJX1^5lNbJX1V5lNjJY1l4lNTKY1c4kN]K[1V4lNjKY1m3kNSLZ1b3lN^L\\\\1R3lNnLY1e2oN[M^1m1mNSNg1i0iNWO`800000000000000000000000000000000000000000000000000000000000000000000000000000000000000000000000000000000000000000000000000o>'},\n",
       "  'area': 70548,\n",
       "  'bbox': [1.0, 1.0, 852.0, 478.0],\n",
       "  'iscrowd': 0},\n",
       " {'id': 1,\n",
       "  'image_id': 0,\n",
       "  'category_id': 2,\n",
       "  'segmentation': {'size': [480, 854],\n",
       "   'counts': '[W?W1R=mNRCV2X<d0@>C;B>E;E:F:F8J8F:G7J7H7J7H7J6J6K5J6I7K5J6J5J6L6J4L4L4L5J5L5K4K6K3M4L4L4L4L4L4L4M3L4L4L3M4M3L5K3M4M3L3M4M2M4M3L3M3N3L4M3L3N3M2M4OjB_Nl<o1L6RCkMd<Z20O[CkM]<d2H2N003PDTMf;T3WDmLc;X30O11O2N5K1O1O2N2N1O1O2N1O4L3M1O2N3M3M001O1O3M3M001O2N1O1O1O1O1O2N001O001O1O1O1O2N2N4L001O1O3M1O2N001O1O1O2N1O1O1O001O1O2N1O1O1O1O1O1O001O1O001O1O1O001O001O1O1O001O1O1O1O001O1O0000001O1O2N1O1O1O1O00001O2N1O1O001O1O1O001O2N001O1O001O1O00O1O1001O1O1O00001O3M1O2N1O3M3M5mHRHj6S8O1O1O3M3M4L2N1O3M3M2N3M1O4L2N2N3M2N1O3M1O2N1O2N2N1O2N1O1O2N1O1O1O2N1O1O1O1O1O2N1O1O1O1O1O1O1O1O1O1O00001O[EjKa:U4_EnK`:P4`ERL_:m3aEVL]:i3cEYL\\\\:f3dE\\\\L[:c3eE_LZ:`3fEbLY:]3gEeLX:Z3hEhLX:V3hElLW:S3iEoLV:P3jETMS:k2mEWMR:h2nEZMQ:e2oE]MQ:a2oE`MQ:_2oEcMP:\\\\2PFhMl9X2TFjMj9V2VFlMi9S2WFQNe9o1[FSNd9l1\\\\FUNd9j1\\\\FXNc9g1]F[Nb9d1^F^Na9a1_FaN`9^1`FeN]9[1cFfN]9Y1cFjN]9S1cFoNOlMX9T3iFWOV9h0jFYOV9f0jF\\\\OU9c0kF@R9`0nFBQ9=oFGn88RGJm85SGMl82TG0k8OUG3i8MWG5h8JXG8h8FXG<f8DZG>e8A[Ga0d8^O\\\\Ge0a8[O_Gf0a8YO_Gh0a8WO_Gl0^8TObGm0^8RObGP1]8oNcGT1Z8lNfGU1Z8jNfGW1\\\\8fNdG\\\\1[8cNeGb1V8^NjGc1U8]NkGd1T8\\\\NlGe1OlKQ8^2PHk1o7UNQHl1n7TNRHP2j7PNVHP2i7QNWHP2h7PNXHU2c7kM]HX2`7hM`HY2_7gMaHY2_7gMaH[2^7dMbH^2\\\\7bMdHc2W7]MiHe2V7ZMjHg2U7YMkHi2S7WMmHl2P7TMPIo2n6PMRIR3l6nLTIU3j6jLVIX3h6hLXIZ3f6fLZI]3c6cL]If3Z6ZLfIf3[6YLeIj3X6VLhIl3V6TLjIm3U6SLkIo3T6PLlIR4S6mKmIU4Q6kKoIX4o5gKQJ[4m5eKSJ^4k5aKUJa4i5_KWJd4f5\\\\KZJf4e5YK[Ji4c5WK]Jj4b5VK^Jk4b5TK^Jm40nH]5U2cJS5[5mJeJV5X5jJhJY5U5gJkJ[5S5eJmJ^5Q5aJoJb5o4]JQKg5l4XJTKj5k4UJUKn5i4QJWKP6j4nIVKT6i4iIYKa6^4]IcKe6[4[IeKj6W4TIjKP7T4mHmKU7S4iHmKX7T4dHnK]7R4_HQLc7n3[HSLe7o3XHRLh7Q4oGdKSO=n8Q4^GbLb8n41O1O00001O001O001O1O0000001O1O000000O1001O000000001O00001O0000001O001O0000001O000000001O000000000000001O000000000000000000001O00000000000000000000O1001O0000O10000000000O10000000000000000000000000000O1O11O00000000001O000000O1000000001O00000000000000001O1O0000O1001O000000001O001Oa0_O5K3\\\\KhEZ4_:01O1O0000001O00O100O10000O100O1O100O1O1000000O1000000000000O100000000O1O10000000000O1O100000000O10000O100O1O100O1000000000000000000000000000000000000000000000000000000000000000000000000000000000000001O000000001O1O001O1O1O000000001O1O001O0000000000000000001000O1O1O1O2O0O1O1O1O2O0O1O2N001O2N1O1O2N1O2N1O1O1O2N1O1O2N1O2N1O1O2N1O2N1O2M2O1O1O2O0O1O2N3M1O1O2N2N2N3N0O2N2N2N2N2O0O3M2N2N2N2N2O1O2N100O2N101N14MO1N1O1O3M1N2O21OM4M2N1M5G9H8J6G9H8H9F:G:C<G9E>@=Ce0XOo0lNjYm0'},\n",
       "  'area': 210905,\n",
       "  'bbox': [32.0, 1.0, 759.0, 478.0],\n",
       "  'iscrowd': 0},\n",
       " {'id': 2,\n",
       "  'image_id': 0,\n",
       "  'category_id': 3,\n",
       "  'segmentation': {'size': [480, 854],\n",
       "   'counts': 'ijl51o>1O1N2O2N1TCJk:8SEIl:8TEHl:9REHn::oDGQ;;mDES;=iDEW;<eDG[;:cDG\\\\;<aDE_;>XDYOSO;e<>gC5Y<Y11O0000O1001O0000000000000000000000000000000000000000000000000000000000000000000000000000O10000000000000000000000000000000000O1000000000000O10000000000000000000000000000001O0000000000001O0000000000001O00000000000000000000000000O100000000O10000O1000000O1000000000000O100O10000000000000000O100000000000000O100O1000000000000000000O1000000O100000000000000O100000000000000000000000000000000000000O10000O10000000000000000O100000000000000000000000000000000000000000000000000000000000000000000000000000000001O000000000000O100000000000000000O10000000000000000000000000000000000000000000000000000000000000000000000O1N2O1O2M2O1N2O2M2O1N2N2N2O1N2O1N2N2O1N2N2N2O1N2N2N2N2N2N2N2N2N2N2N2N2N2N2M3N2M4N1M3M4MgZY1'},\n",
       "  'area': 26762,\n",
       "  'bbox': [402.0, 391.0, 363.0, 88.0],\n",
       "  'iscrowd': 0},\n",
       " {'id': 3,\n",
       "  'image_id': 0,\n",
       "  'category_id': 4,\n",
       "  'segmentation': {'size': [480, 854],\n",
       "   'counts': 'b\\\\d51l>4N1O2N1O2N1O1O2N1J6M4G8O1M3K5L4N3M2N2M3M2O2M3N1M3O2O1O1_NmMQFW2P:mMjET2X:nMcES2]:oM_ER2b:SNXEn1h:WNREj1n:ZNmDg1T;[NhDg1X;P1000O2O010O001O1O0000001O1O000000O1001O000000001O00001O0000001O001O0000001O000000001O0O1000000000001O000000000000000000001N1000000000000O100000O1001O0000O10000000000O101O0000000000001O00000000000O2N11O00000000001O000000O1000O10001O000O10000O1000001N2O0000O1001O0O100O101O001Oa0_O5K3mMWCi1P=01N2O0000001O00O10O010O10O100O1O100O1O1000O10O1000O10000000O100000O10O1O10000000000O1O100000000O10000O100O00100O010000000000000000O100000000000000000000000000000000000000000000000000000000000000000001O000000001O1O010O1O1O0000000O2O1O001O0000000000000000001O1O000000001O000000001O000000000000000000000000000000000000000000000001O000O101O0001O0000000000000000001O00000000001O0000000000001O1O1O2N1O1O2O0O6J2O0N2L4M3L3M4M6H4M4LeTU1'},\n",
       "  'area': 28977,\n",
       "  'bbox': [384.0, 285.0, 390.0, 124.0],\n",
       "  'iscrowd': 0},\n",
       " {'id': 4,\n",
       "  'image_id': 0,\n",
       "  'category_id': 10,\n",
       "  'segmentation': {'size': [480, 854],\n",
       "   'counts': 'Y^^139NX>c0J8hAUOl=R1L3WBoN`=a1G3L2O4QCSNd<V2YCkM_<\\\\2O002M4M6J2N2N3L4M2N2N3M2M6K4L2N3M4L4L1N3M3O3M3M001O2N1O1O1O1O1O2N001O001O1O1O1O2N2N4L001O1O3M1O2N001O1O1O2N1O1O1O001O1O2N1O1O1O1O1O1O001O1O001O1O1O001O001O1O1O001O1O1O1O001O1O0000001O1O2N1O1O1O1O00001O2N1O1O001O1O1O001O2N001O1O001O1O00O1O1001O1O1O00001O3M1O2N1O3M3M5kHTHl6Q8O1O1O3M3M4L2N1O3M3M2N3M1O4L2N2N3M2N1O3M1O2N1O2N2N1O2N1O1O2N1O1O1O2N1O1O1O1O1O2N1O1O1O1O1O1O1O1O1O1O000012N2O0O2N1O1O1O1O1O100O1O3M1O1O10O01O3L2N2O3L2O001O1O1O1O2M1020ObFaJX9e5O001O2M2O3M1O1O1O1N2O100N2O1O2M10002M101O2M1002OO4K1O1O1kGXIQ8l6O1O4L0O2O5K3M1O002O1N5K2O0O2N3M3N1N3N1N2N3M9G012M2N1O2N2K5M4L3M4L3M4L3M3M2I7L4XKkE[4c:M4J6H7J7K5K6J4K6J4M4K=D4J9I6K3M7F9J5K3L7J6J5K4LSeZ6'},\n",
       "  'area': 70064,\n",
       "  'bbox': [99.0, 1.0, 322.0, 401.0],\n",
       "  'iscrowd': 0}]"
      ]
     },
     "execution_count": 11,
     "metadata": {},
     "output_type": "execute_result"
    }
   ],
   "source": [
    "coco.loadAnns([0,1,2,3,4])"
   ]
  },
  {
   "cell_type": "code",
   "execution_count": 4,
   "metadata": {},
   "outputs": [],
   "source": [
    "import json \n",
    "with open('gt_coco_annotations.json') as f:\n",
    "    gt_coco = json.load(f)"
   ]
  },
  {
   "cell_type": "code",
   "execution_count": 7,
   "metadata": {},
   "outputs": [],
   "source": [
    "for idx, ann in enumerate(gt_coco['annotations']):\n",
    "    # print(ann)\n",
    "    ann['id'] = idx"
   ]
  },
  {
   "cell_type": "code",
   "execution_count": 8,
   "metadata": {},
   "outputs": [],
   "source": [
    "with open(\"gt_coco_annotations.json\",\"w\") as f:\n",
    "    json.dump(gt_coco,f,indent=4)"
   ]
  },
  {
   "cell_type": "code",
   "execution_count": 15,
   "metadata": {},
   "outputs": [
    {
     "data": {
      "text/plain": [
       "<zip at 0x7fce41ac2880>"
      ]
     },
     "execution_count": 15,
     "metadata": {},
     "output_type": "execute_result"
    }
   ],
   "source": [
    "a= zip([],[])\n",
    "a"
   ]
  },
  {
   "cell_type": "code",
   "execution_count": 5,
   "metadata": {},
   "outputs": [],
   "source": [
    "import pickle"
   ]
  },
  {
   "cell_type": "code",
   "execution_count": 6,
   "metadata": {},
   "outputs": [],
   "source": [
    "with open(\"/bd_byta6000i0/users/sam2/kyyang/SurgicalSAM2/wl_test/test/output/mask/prompt.pkl\", \"rb\") as f:\n",
    "    prompt_info = pickle.load(f)"
   ]
  },
  {
   "cell_type": "code",
   "execution_count": 7,
   "metadata": {},
   "outputs": [
    {
     "data": {
      "text/plain": [
       "3"
      ]
     },
     "execution_count": 7,
     "metadata": {},
     "output_type": "execute_result"
    }
   ],
   "source": [
    "len(prompt_info)"
   ]
  },
  {
   "cell_type": "code",
   "execution_count": 9,
   "metadata": {},
   "outputs": [
    {
     "data": {
      "text/plain": [
       "{'prompt_objs': [{'mask': array([[ True,  True,  True, ..., False, False, False],\n",
       "          [ True,  True,  True, ..., False, False, False],\n",
       "          [ True,  True,  True, ..., False, False, False],\n",
       "          ...,\n",
       "          [ True,  True,  True, ..., False, False, False],\n",
       "          [ True,  True,  True, ..., False, False, False],\n",
       "          [ True,  True,  True, ..., False, False, False]]),\n",
       "   'bbox': [0.0, 0.0, 129.0, 479.0],\n",
       "   'points': [array([ 41, 447]), array([15, 60]), [805, 372], [284, 182]],\n",
       "   'obj_id': 0,\n",
       "   'pos_or_neg_label': [1, 1, 0, 0]},\n",
       "  {'mask': array([[False, False, False, ...,  True,  True,  True],\n",
       "          [False, False, False, ...,  True,  True,  True],\n",
       "          [False, False, False, ...,  True,  True,  True],\n",
       "          ...,\n",
       "          [False, False, False, ...,  True,  True,  True],\n",
       "          [False, False, False, ...,  True,  True,  True],\n",
       "          [False, False, False, ...,  True,  True,  True]]),\n",
       "   'bbox': [685.0, 0.0, 853.0, 479.0],\n",
       "   'points': [array([831,   7]), array([805, 372]), [41, 447], [526, 233]],\n",
       "   'obj_id': 13,\n",
       "   'pos_or_neg_label': [1, 1, 0, 0]},\n",
       "  {'mask': array([[False, False, False, ..., False, False, False],\n",
       "          [False, False, False, ..., False, False, False],\n",
       "          [False, False, False, ..., False, False, False],\n",
       "          ...,\n",
       "          [False, False, False, ..., False, False, False],\n",
       "          [False, False, False, ..., False, False, False],\n",
       "          [False, False, False, ..., False, False, False]]),\n",
       "   'bbox': [296.0, 0.0, 790.0, 366.0],\n",
       "   'points': [array([526, 233]), array([353,   4]), [573, 444], [41, 447]],\n",
       "   'obj_id': 28,\n",
       "   'pos_or_neg_label': [1, 1, 0, 0]},\n",
       "  {'mask': array([[False, False, False, ..., False, False, False],\n",
       "          [False, False, False, ..., False, False, False],\n",
       "          [False, False, False, ..., False, False, False],\n",
       "          ...,\n",
       "          [False, False, False, ..., False, False, False],\n",
       "          [False, False, False, ..., False, False, False],\n",
       "          [False, False, False, ..., False, False, False]]),\n",
       "   'bbox': [32.0, 43.0, 418.0, 479.0],\n",
       "   'points': [array([ 92, 158]), array([ 89, 174]), [375, 194], [41, 447]],\n",
       "   'obj_id': 41,\n",
       "   'pos_or_neg_label': [1, 1, 0, 0]},\n",
       "  {'mask': array([[False, False, False, ..., False, False, False],\n",
       "          [False, False, False, ..., False, False, False],\n",
       "          [False, False, False, ..., False, False, False],\n",
       "          ...,\n",
       "          [False, False, False, ..., False, False, False],\n",
       "          [False, False, False, ..., False, False, False],\n",
       "          [False, False, False, ..., False, False, False]]),\n",
       "   'bbox': [402.0, 391.0, 764.0, 479.0],\n",
       "   'points': [array([628, 419]), array([573, 444]), [831, 7], [353, 4]],\n",
       "   'obj_id': 55,\n",
       "   'pos_or_neg_label': [1, 1, 0, 0]},\n",
       "  {'mask': array([[False, False, False, ..., False, False, False],\n",
       "          [False, False, False, ..., False, False, False],\n",
       "          [False, False, False, ..., False, False, False],\n",
       "          ...,\n",
       "          [False, False, False, ..., False, False, False],\n",
       "          [False, False, False, ..., False, False, False],\n",
       "          [False, False, False, ..., False, False, False]]),\n",
       "   'bbox': [384.0, 285.0, 773.0, 408.0],\n",
       "   'points': [array([524, 321]), array([504, 319]), [573, 444], [41, 447]],\n",
       "   'obj_id': 69,\n",
       "   'pos_or_neg_label': [1, 1, 0, 0]},\n",
       "  {'mask': array([[False, False, False, ..., False, False, False],\n",
       "          [False, False, False, ..., False, False, False],\n",
       "          [False, False, False, ..., False, False, False],\n",
       "          ...,\n",
       "          [False, False, False, ..., False, False, False],\n",
       "          [False, False, False, ..., False, False, False],\n",
       "          [False, False, False, ..., False, False, False]]),\n",
       "   'bbox': [99.0, 0.0, 420.0, 401.0],\n",
       "   'points': [array([375, 194]), array([284, 182]), [89, 174], [573, 444]],\n",
       "   'obj_id': 88,\n",
       "   'pos_or_neg_label': [1, 1, 0, 0]}],\n",
       " 'frame_idx': 0,\n",
       " 'prompt_type': 'mask',\n",
       " 'video_id': 'video01_00080',\n",
       " 'path': '/bd_byta6000i0/users/sam2/wl/data/raw/video01/video01_00080/video_rename/0.jpg'}"
      ]
     },
     "execution_count": 9,
     "metadata": {},
     "output_type": "execute_result"
    }
   ],
   "source": [
    "prompt_info[0]"
   ]
  },
  {
   "cell_type": "code",
   "execution_count": 10,
   "metadata": {},
   "outputs": [],
   "source": [
    "with open(\"prompt.pkl\", \"rb\") as f:\n",
    "    prompt_1 = pickle.load(f)"
   ]
  },
  {
   "cell_type": "code",
   "execution_count": 11,
   "metadata": {},
   "outputs": [
    {
     "data": {
      "text/plain": [
       "[{'prompt_objs': [{'mask': array([[ True,  True,  True, ..., False, False, False],\n",
       "           [ True,  True,  True, ..., False, False, False],\n",
       "           [ True,  True,  True, ..., False, False, False],\n",
       "           ...,\n",
       "           [ True,  True,  True, ..., False, False, False],\n",
       "           [ True,  True,  True, ..., False, False, False],\n",
       "           [ True,  True,  True, ..., False, False, False]]),\n",
       "    'bbox': [0.0, 0.0, 129.0, 479.0],\n",
       "    'points': [array([28, 56]), array([ 41, 430]), [833, 99], [251, 135]],\n",
       "    'obj_id': 0,\n",
       "    'pos_or_neg_label': [1, 1, 0, 0]},\n",
       "   {'mask': array([[False, False, False, ...,  True,  True,  True],\n",
       "           [False, False, False, ...,  True,  True,  True],\n",
       "           [False, False, False, ...,  True,  True,  True],\n",
       "           ...,\n",
       "           [False, False, False, ...,  True,  True,  True],\n",
       "           [False, False, False, ...,  True,  True,  True],\n",
       "           [False, False, False, ...,  True,  True,  True]]),\n",
       "    'bbox': [685.0, 0.0, 853.0, 479.0],\n",
       "    'points': [array([833,  99]), array([829, 396]), [829, 396], [305, 378]],\n",
       "    'obj_id': 13,\n",
       "    'pos_or_neg_label': [1, 1, 0, 0]},\n",
       "   {'mask': array([[False, False, False, ..., False, False, False],\n",
       "           [False, False, False, ..., False, False, False],\n",
       "           [False, False, False, ..., False, False, False],\n",
       "           ...,\n",
       "           [False, False, False, ..., False, False, False],\n",
       "           [False, False, False, ..., False, False, False],\n",
       "           [False, False, False, ..., False, False, False]]),\n",
       "    'bbox': [296.0, 0.0, 790.0, 366.0],\n",
       "    'points': [array([390, 202]), array([662, 134]), [251, 135], [662, 134]],\n",
       "    'obj_id': 28,\n",
       "    'pos_or_neg_label': [1, 1, 0, 0]},\n",
       "   {'mask': array([[False, False, False, ..., False, False, False],\n",
       "           [False, False, False, ..., False, False, False],\n",
       "           [False, False, False, ..., False, False, False],\n",
       "           ...,\n",
       "           [False, False, False, ..., False, False, False],\n",
       "           [False, False, False, ..., False, False, False],\n",
       "           [False, False, False, ..., False, False, False]]),\n",
       "    'bbox': [32.0, 43.0, 418.0, 479.0],\n",
       "    'points': [array([305, 378]), array([371, 452]), [641, 328], [371, 452]],\n",
       "    'obj_id': 41,\n",
       "    'pos_or_neg_label': [1, 1, 0, 0]},\n",
       "   {'mask': array([[False, False, False, ..., False, False, False],\n",
       "           [False, False, False, ..., False, False, False],\n",
       "           [False, False, False, ..., False, False, False],\n",
       "           ...,\n",
       "           [False, False, False, ..., False, False, False],\n",
       "           [False, False, False, ..., False, False, False],\n",
       "           [False, False, False, ..., False, False, False]]),\n",
       "    'bbox': [402.0, 391.0, 764.0, 479.0],\n",
       "    'points': [array([574, 433]), array([517, 463]), [277, 311], [41, 430]],\n",
       "    'obj_id': 55,\n",
       "    'pos_or_neg_label': [1, 1, 0, 0]},\n",
       "   {'mask': array([[False, False, False, ..., False, False, False],\n",
       "           [False, False, False, ..., False, False, False],\n",
       "           [False, False, False, ..., False, False, False],\n",
       "           ...,\n",
       "           [False, False, False, ..., False, False, False],\n",
       "           [False, False, False, ..., False, False, False],\n",
       "           [False, False, False, ..., False, False, False]]),\n",
       "    'bbox': [384.0, 285.0, 773.0, 408.0],\n",
       "    'points': [array([641, 328]), array([420, 378]), [41, 430], [371, 452]],\n",
       "    'obj_id': 69,\n",
       "    'pos_or_neg_label': [1, 1, 0, 0]},\n",
       "   {'mask': array([[False, False, False, ..., False, False, False],\n",
       "           [False, False, False, ..., False, False, False],\n",
       "           [False, False, False, ..., False, False, False],\n",
       "           ...,\n",
       "           [False, False, False, ..., False, False, False],\n",
       "           [False, False, False, ..., False, False, False],\n",
       "           [False, False, False, ..., False, False, False]]),\n",
       "    'bbox': [99.0, 0.0, 420.0, 401.0],\n",
       "    'points': [array([251, 135]), array([277, 311]), [28, 56], [641, 328]],\n",
       "    'obj_id': 88,\n",
       "    'pos_or_neg_label': [1, 1, 0, 0]}],\n",
       "  'frame_idx': 0,\n",
       "  'prompt_type': 'mask',\n",
       "  'video_id': 'video01_00080',\n",
       "  'path': '/bd_byta6000i0/users/sam2/wl/data/raw/video01/video01_00080/video_rename/0.jpg'}]"
      ]
     },
     "execution_count": 11,
     "metadata": {},
     "output_type": "execute_result"
    }
   ],
   "source": [
    "prompt_1"
   ]
  },
  {
   "cell_type": "code",
   "execution_count": null,
   "metadata": {},
   "outputs": [],
   "source": []
  }
 ],
 "metadata": {
  "kernelspec": {
   "display_name": "sam2",
   "language": "python",
   "name": "python3"
  },
  "language_info": {
   "codemirror_mode": {
    "name": "ipython",
    "version": 3
   },
   "file_extension": ".py",
   "mimetype": "text/x-python",
   "name": "python",
   "nbconvert_exporter": "python",
   "pygments_lexer": "ipython3",
   "version": "3.12.3"
  }
 },
 "nbformat": 4,
 "nbformat_minor": 2
}
