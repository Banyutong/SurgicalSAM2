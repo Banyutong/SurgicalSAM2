{
 "cells": [
  {
   "cell_type": "code",
   "execution_count": 14,
   "metadata": {},
   "outputs": [],
   "source": [
    "from pycocotools.coco import COCO"
   ]
  },
  {
   "cell_type": "code",
   "execution_count": 15,
   "metadata": {},
   "outputs": [
    {
     "name": "stdout",
     "output_type": "stream",
     "text": [
      "loading annotations into memory...\n",
      "Done (t=0.02s)\n",
      "creating index...\n",
      "index created!\n"
     ]
    }
   ],
   "source": [
    "coco = COCO('gt1_coco_annotations.json')"
   ]
  },
  {
   "cell_type": "code",
   "execution_count": 13,
   "metadata": {},
   "outputs": [
    {
     "ename": "NameError",
     "evalue": "name 'coco' is not defined",
     "output_type": "error",
     "traceback": [
      "\u001b[0;31m---------------------------------------------------------------------------\u001b[0m",
      "\u001b[0;31mNameError\u001b[0m                                 Traceback (most recent call last)",
      "Cell \u001b[0;32mIn[13], line 1\u001b[0m\n\u001b[0;32m----> 1\u001b[0m \u001b[43mcoco\u001b[49m\u001b[38;5;241m.\u001b[39mloadAnns([\u001b[38;5;241m0\u001b[39m,\u001b[38;5;241m1\u001b[39m,\u001b[38;5;241m2\u001b[39m,\u001b[38;5;241m3\u001b[39m,\u001b[38;5;241m4\u001b[39m])\n",
      "\u001b[0;31mNameError\u001b[0m: name 'coco' is not defined"
     ]
    }
   ],
   "source": [
    "coco.loadAnns([0,1,2,3,4])"
   ]
  },
  {
   "cell_type": "code",
   "execution_count": 16,
   "metadata": {},
   "outputs": [],
   "source": [
    "import json \n",
    "with open('gt1_coco_annotations.json') as f:\n",
    "    gt_coco = json.load(f)"
   ]
  },
  {
   "cell_type": "code",
   "execution_count": 17,
   "metadata": {},
   "outputs": [],
   "source": [
    "for idx, ann in enumerate(gt_coco['annotations']):\n",
    "    # print(ann)\n",
    "    ann['id'] = idx"
   ]
  },
  {
   "cell_type": "code",
   "execution_count": 18,
   "metadata": {},
   "outputs": [],
   "source": [
    "with open(\"gt1_coco_annotations.json\",\"w\") as f:\n",
    "    json.dump(gt_coco,f,indent=4)"
   ]
  },
  {
   "cell_type": "code",
   "execution_count": 15,
   "metadata": {},
   "outputs": [
    {
     "data": {
      "text/plain": [
       "<zip at 0x7fce41ac2880>"
      ]
     },
     "execution_count": 15,
     "metadata": {},
     "output_type": "execute_result"
    }
   ],
   "source": [
    "a= zip([],[])\n",
    "a"
   ]
  },
  {
   "cell_type": "code",
   "execution_count": 5,
   "metadata": {},
   "outputs": [],
   "source": [
    "import pickle"
   ]
  },
  {
   "cell_type": "code",
   "execution_count": 6,
   "metadata": {},
   "outputs": [],
   "source": [
    "with open(\"/bd_byta6000i0/users/sam2/kyyang/SurgicalSAM2/wl_test/test/output/mask/prompt.pkl\", \"rb\") as f:\n",
    "    prompt_info = pickle.load(f)"
   ]
  },
  {
   "cell_type": "code",
   "execution_count": 7,
   "metadata": {},
   "outputs": [
    {
     "data": {
      "text/plain": [
       "3"
      ]
     },
     "execution_count": 7,
     "metadata": {},
     "output_type": "execute_result"
    }
   ],
   "source": [
    "len(prompt_info)"
   ]
  },
  {
   "cell_type": "code",
   "execution_count": 9,
   "metadata": {},
   "outputs": [
    {
     "data": {
      "text/plain": [
       "{'prompt_objs': [{'mask': array([[ True,  True,  True, ..., False, False, False],\n",
       "          [ True,  True,  True, ..., False, False, False],\n",
       "          [ True,  True,  True, ..., False, False, False],\n",
       "          ...,\n",
       "          [ True,  True,  True, ..., False, False, False],\n",
       "          [ True,  True,  True, ..., False, False, False],\n",
       "          [ True,  True,  True, ..., False, False, False]]),\n",
       "   'bbox': [0.0, 0.0, 129.0, 479.0],\n",
       "   'points': [array([ 41, 447]), array([15, 60]), [805, 372], [284, 182]],\n",
       "   'obj_id': 0,\n",
       "   'pos_or_neg_label': [1, 1, 0, 0]},\n",
       "  {'mask': array([[False, False, False, ...,  True,  True,  True],\n",
       "          [False, False, False, ...,  True,  True,  True],\n",
       "          [False, False, False, ...,  True,  True,  True],\n",
       "          ...,\n",
       "          [False, False, False, ...,  True,  True,  True],\n",
       "          [False, False, False, ...,  True,  True,  True],\n",
       "          [False, False, False, ...,  True,  True,  True]]),\n",
       "   'bbox': [685.0, 0.0, 853.0, 479.0],\n",
       "   'points': [array([831,   7]), array([805, 372]), [41, 447], [526, 233]],\n",
       "   'obj_id': 13,\n",
       "   'pos_or_neg_label': [1, 1, 0, 0]},\n",
       "  {'mask': array([[False, False, False, ..., False, False, False],\n",
       "          [False, False, False, ..., False, False, False],\n",
       "          [False, False, False, ..., False, False, False],\n",
       "          ...,\n",
       "          [False, False, False, ..., False, False, False],\n",
       "          [False, False, False, ..., False, False, False],\n",
       "          [False, False, False, ..., False, False, False]]),\n",
       "   'bbox': [296.0, 0.0, 790.0, 366.0],\n",
       "   'points': [array([526, 233]), array([353,   4]), [573, 444], [41, 447]],\n",
       "   'obj_id': 28,\n",
       "   'pos_or_neg_label': [1, 1, 0, 0]},\n",
       "  {'mask': array([[False, False, False, ..., False, False, False],\n",
       "          [False, False, False, ..., False, False, False],\n",
       "          [False, False, False, ..., False, False, False],\n",
       "          ...,\n",
       "          [False, False, False, ..., False, False, False],\n",
       "          [False, False, False, ..., False, False, False],\n",
       "          [False, False, False, ..., False, False, False]]),\n",
       "   'bbox': [32.0, 43.0, 418.0, 479.0],\n",
       "   'points': [array([ 92, 158]), array([ 89, 174]), [375, 194], [41, 447]],\n",
       "   'obj_id': 41,\n",
       "   'pos_or_neg_label': [1, 1, 0, 0]},\n",
       "  {'mask': array([[False, False, False, ..., False, False, False],\n",
       "          [False, False, False, ..., False, False, False],\n",
       "          [False, False, False, ..., False, False, False],\n",
       "          ...,\n",
       "          [False, False, False, ..., False, False, False],\n",
       "          [False, False, False, ..., False, False, False],\n",
       "          [False, False, False, ..., False, False, False]]),\n",
       "   'bbox': [402.0, 391.0, 764.0, 479.0],\n",
       "   'points': [array([628, 419]), array([573, 444]), [831, 7], [353, 4]],\n",
       "   'obj_id': 55,\n",
       "   'pos_or_neg_label': [1, 1, 0, 0]},\n",
       "  {'mask': array([[False, False, False, ..., False, False, False],\n",
       "          [False, False, False, ..., False, False, False],\n",
       "          [False, False, False, ..., False, False, False],\n",
       "          ...,\n",
       "          [False, False, False, ..., False, False, False],\n",
       "          [False, False, False, ..., False, False, False],\n",
       "          [False, False, False, ..., False, False, False]]),\n",
       "   'bbox': [384.0, 285.0, 773.0, 408.0],\n",
       "   'points': [array([524, 321]), array([504, 319]), [573, 444], [41, 447]],\n",
       "   'obj_id': 69,\n",
       "   'pos_or_neg_label': [1, 1, 0, 0]},\n",
       "  {'mask': array([[False, False, False, ..., False, False, False],\n",
       "          [False, False, False, ..., False, False, False],\n",
       "          [False, False, False, ..., False, False, False],\n",
       "          ...,\n",
       "          [False, False, False, ..., False, False, False],\n",
       "          [False, False, False, ..., False, False, False],\n",
       "          [False, False, False, ..., False, False, False]]),\n",
       "   'bbox': [99.0, 0.0, 420.0, 401.0],\n",
       "   'points': [array([375, 194]), array([284, 182]), [89, 174], [573, 444]],\n",
       "   'obj_id': 88,\n",
       "   'pos_or_neg_label': [1, 1, 0, 0]}],\n",
       " 'frame_idx': 0,\n",
       " 'prompt_type': 'mask',\n",
       " 'video_id': 'video01_00080',\n",
       " 'path': '/bd_byta6000i0/users/sam2/wl/data/raw/video01/video01_00080/video_rename/0.jpg'}"
      ]
     },
     "execution_count": 9,
     "metadata": {},
     "output_type": "execute_result"
    }
   ],
   "source": [
    "prompt_info[0]"
   ]
  },
  {
   "cell_type": "code",
   "execution_count": 10,
   "metadata": {},
   "outputs": [],
   "source": [
    "with open(\"prompt.pkl\", \"rb\") as f:\n",
    "    prompt_1 = pickle.load(f)"
   ]
  },
  {
   "cell_type": "code",
   "execution_count": 11,
   "metadata": {},
   "outputs": [
    {
     "data": {
      "text/plain": [
       "[{'prompt_objs': [{'mask': array([[ True,  True,  True, ..., False, False, False],\n",
       "           [ True,  True,  True, ..., False, False, False],\n",
       "           [ True,  True,  True, ..., False, False, False],\n",
       "           ...,\n",
       "           [ True,  True,  True, ..., False, False, False],\n",
       "           [ True,  True,  True, ..., False, False, False],\n",
       "           [ True,  True,  True, ..., False, False, False]]),\n",
       "    'bbox': [0.0, 0.0, 129.0, 479.0],\n",
       "    'points': [array([28, 56]), array([ 41, 430]), [833, 99], [251, 135]],\n",
       "    'obj_id': 0,\n",
       "    'pos_or_neg_label': [1, 1, 0, 0]},\n",
       "   {'mask': array([[False, False, False, ...,  True,  True,  True],\n",
       "           [False, False, False, ...,  True,  True,  True],\n",
       "           [False, False, False, ...,  True,  True,  True],\n",
       "           ...,\n",
       "           [False, False, False, ...,  True,  True,  True],\n",
       "           [False, False, False, ...,  True,  True,  True],\n",
       "           [False, False, False, ...,  True,  True,  True]]),\n",
       "    'bbox': [685.0, 0.0, 853.0, 479.0],\n",
       "    'points': [array([833,  99]), array([829, 396]), [829, 396], [305, 378]],\n",
       "    'obj_id': 13,\n",
       "    'pos_or_neg_label': [1, 1, 0, 0]},\n",
       "   {'mask': array([[False, False, False, ..., False, False, False],\n",
       "           [False, False, False, ..., False, False, False],\n",
       "           [False, False, False, ..., False, False, False],\n",
       "           ...,\n",
       "           [False, False, False, ..., False, False, False],\n",
       "           [False, False, False, ..., False, False, False],\n",
       "           [False, False, False, ..., False, False, False]]),\n",
       "    'bbox': [296.0, 0.0, 790.0, 366.0],\n",
       "    'points': [array([390, 202]), array([662, 134]), [251, 135], [662, 134]],\n",
       "    'obj_id': 28,\n",
       "    'pos_or_neg_label': [1, 1, 0, 0]},\n",
       "   {'mask': array([[False, False, False, ..., False, False, False],\n",
       "           [False, False, False, ..., False, False, False],\n",
       "           [False, False, False, ..., False, False, False],\n",
       "           ...,\n",
       "           [False, False, False, ..., False, False, False],\n",
       "           [False, False, False, ..., False, False, False],\n",
       "           [False, False, False, ..., False, False, False]]),\n",
       "    'bbox': [32.0, 43.0, 418.0, 479.0],\n",
       "    'points': [array([305, 378]), array([371, 452]), [641, 328], [371, 452]],\n",
       "    'obj_id': 41,\n",
       "    'pos_or_neg_label': [1, 1, 0, 0]},\n",
       "   {'mask': array([[False, False, False, ..., False, False, False],\n",
       "           [False, False, False, ..., False, False, False],\n",
       "           [False, False, False, ..., False, False, False],\n",
       "           ...,\n",
       "           [False, False, False, ..., False, False, False],\n",
       "           [False, False, False, ..., False, False, False],\n",
       "           [False, False, False, ..., False, False, False]]),\n",
       "    'bbox': [402.0, 391.0, 764.0, 479.0],\n",
       "    'points': [array([574, 433]), array([517, 463]), [277, 311], [41, 430]],\n",
       "    'obj_id': 55,\n",
       "    'pos_or_neg_label': [1, 1, 0, 0]},\n",
       "   {'mask': array([[False, False, False, ..., False, False, False],\n",
       "           [False, False, False, ..., False, False, False],\n",
       "           [False, False, False, ..., False, False, False],\n",
       "           ...,\n",
       "           [False, False, False, ..., False, False, False],\n",
       "           [False, False, False, ..., False, False, False],\n",
       "           [False, False, False, ..., False, False, False]]),\n",
       "    'bbox': [384.0, 285.0, 773.0, 408.0],\n",
       "    'points': [array([641, 328]), array([420, 378]), [41, 430], [371, 452]],\n",
       "    'obj_id': 69,\n",
       "    'pos_or_neg_label': [1, 1, 0, 0]},\n",
       "   {'mask': array([[False, False, False, ..., False, False, False],\n",
       "           [False, False, False, ..., False, False, False],\n",
       "           [False, False, False, ..., False, False, False],\n",
       "           ...,\n",
       "           [False, False, False, ..., False, False, False],\n",
       "           [False, False, False, ..., False, False, False],\n",
       "           [False, False, False, ..., False, False, False]]),\n",
       "    'bbox': [99.0, 0.0, 420.0, 401.0],\n",
       "    'points': [array([251, 135]), array([277, 311]), [28, 56], [641, 328]],\n",
       "    'obj_id': 88,\n",
       "    'pos_or_neg_label': [1, 1, 0, 0]}],\n",
       "  'frame_idx': 0,\n",
       "  'prompt_type': 'mask',\n",
       "  'video_id': 'video01_00080',\n",
       "  'path': '/bd_byta6000i0/users/sam2/wl/data/raw/video01/video01_00080/video_rename/0.jpg'}]"
      ]
     },
     "execution_count": 11,
     "metadata": {},
     "output_type": "execute_result"
    }
   ],
   "source": [
    "prompt_1"
   ]
  },
  {
   "cell_type": "code",
   "execution_count": null,
   "metadata": {},
   "outputs": [],
   "source": []
  }
 ],
 "metadata": {
  "kernelspec": {
   "display_name": "sam2",
   "language": "python",
   "name": "python3"
  },
  "language_info": {
   "codemirror_mode": {
    "name": "ipython",
    "version": 3
   },
   "file_extension": ".py",
   "mimetype": "text/x-python",
   "name": "python",
   "nbconvert_exporter": "python",
   "pygments_lexer": "ipython3",
   "version": "3.12.3"
  }
 },
 "nbformat": 4,
 "nbformat_minor": 2
}
