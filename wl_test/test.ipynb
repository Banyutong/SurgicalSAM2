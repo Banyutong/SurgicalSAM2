{
 "cells": [
  {
   "cell_type": "code",
   "execution_count": 377,
   "metadata": {},
   "outputs": [],
   "source": [
    "import pickle"
   ]
  },
  {
   "cell_type": "code",
   "execution_count": 378,
   "metadata": {},
   "outputs": [],
   "source": [
    "with open(\"bbox.pkl\", \"rb\") as f:\n",
    "    bbox = pickle.load(f)\n",
    "\n",
    "with open(\"mask.pkl\", \"rb\") as f:\n",
    "    mask = pickle.load(f)"
   ]
  },
  {
   "cell_type": "code",
   "execution_count": 379,
   "metadata": {},
   "outputs": [
    {
     "data": {
      "text/plain": [
       "[0.0, 0.0, 129.0, 479.0]"
      ]
     },
     "execution_count": 379,
     "metadata": {},
     "output_type": "execute_result"
    }
   ],
   "source": [
    "bbox"
   ]
  },
  {
   "cell_type": "code",
   "execution_count": 380,
   "metadata": {},
   "outputs": [],
   "source": [
    "import albumentations as A\n",
    "import cv2\n",
    "import numpy as np\n",
    "import random\n",
    "\n",
    "\n",
    "def dilate_mask(mask, **kwargs):\n",
    "    kernel_size = random.randrange(3, 21, 2)\n",
    "    kernel = cv2.getStructuringElement(cv2.MORPH_RECT, (kernel_size, kernel_size))\n",
    "    noised_mask = cv2.dilate(mask, kernel)\n",
    "    return noised_mask.astype(bool)\n",
    "\n",
    "\n",
    "def erode_mask(mask, **kwargs):\n",
    "    kernel_size = random.randrange(3, 21, 2)\n",
    "    kernel = cv2.getStructuringElement(cv2.MORPH_RECT, (kernel_size, kernel_size))\n",
    "    noised_mask = cv2.erode(mask, kernel)\n",
    "    return noised_mask.astype(bool)\n",
    "\n",
    "\n",
    "# 原始图像和掩码\n",
    "image = np.zeros(mask.shape, dtype=np.uint8)\n",
    "mask = mask.astype(np.uint8)\n",
    "\n",
    "# 定义变换\n",
    "transform = A.Compose(\n",
    "    [\n",
    "        A.ShiftScaleRotate(shift_limit=0.1, scale_limit=0.1, rotate_limit=10, p=0.5),\n",
    "        A.OneOf([A.Lambda(mask=dilate_mask), A.Lambda(mask=erode_mask)], p=0.5),\n",
    "    ]\n",
    ")\n",
    "# 对 mask 进行膨胀操作\n",
    "# A.Lambda(mask=erode_mask),  # 对 mask 进行腐蚀操作\n",
    "\n",
    "\n",
    "# 应用变换\n",
    "transformed = transform(image=image, mask=mask)\n",
    "transformed_image = transformed[\"image\"]\n",
    "transformed_mask = transformed[\"mask\"]"
   ]
  },
  {
   "cell_type": "code",
   "execution_count": 381,
   "metadata": {},
   "outputs": [],
   "source": [
    "BBOX_TRANSFORM = A.Compose(\n",
    "    [A.ShiftScaleRotate(shift_limit=0.3, scale_limit=0.5, rotate_limit=10, p=0.5)],\n",
    "    bbox_params=A.BboxParams(format=\"pascal_voc\"),\n",
    ")"
   ]
  },
  {
   "cell_type": "code",
   "execution_count": 382,
   "metadata": {},
   "outputs": [],
   "source": [
    "def dilate_mask(mask, **kwargs):\n",
    "    kernel_size = random.randrange(3, 21, 2)\n",
    "    kernel = cv2.getStructuringElement(cv2.MORPH_RECT, (kernel_size, kernel_size))\n",
    "    noised_mask = cv2.dilate(mask, kernel)\n",
    "    return noised_mask.astype(bool)\n",
    "\n",
    "\n",
    "def erode_mask(mask, **kwargs):\n",
    "    kernel_size = random.randrange(3, 21, 2)\n",
    "    kernel = cv2.getStructuringElement(cv2.MORPH_RECT, (kernel_size, kernel_size))\n",
    "    noised_mask = cv2.erode(mask, kernel)\n",
    "    return noised_mask.astype(bool)\n",
    "\n",
    "\n",
    "MASK_TRANSFORM = transform = A.Compose(\n",
    "    [\n",
    "        A.ShiftScaleRotate(shift_limit=0.1, scale_limit=0.1, rotate_limit=10, p=0.5),\n",
    "        A.OneOf([A.Lambda(mask=dilate_mask), A.Lambda(mask=erode_mask)], p=0.5),\n",
    "    ]\n",
    ")\n",
    "\n",
    "\n",
    "def add_noise_to_mask(mask: np.ndarray):\n",
    "    image = np.zeros(mask.shape, dtype=np.uint8)\n",
    "    mask = mask.astype(np.uint8)\n",
    "    transformed = MASK_TRANSFORM(image=image, mask=mask)\n",
    "    transformed_image = transformed[\"image\"]\n",
    "    transformed_mask = transformed[\"mask\"]\n",
    "    return transformed_mask.astype(bool)"
   ]
  },
  {
   "cell_type": "code",
   "execution_count": 383,
   "metadata": {},
   "outputs": [
    {
     "data": {
      "text/plain": [
       "list"
      ]
     },
     "execution_count": 383,
     "metadata": {},
     "output_type": "execute_result"
    }
   ],
   "source": [
    "type(bbox)"
   ]
  },
  {
   "cell_type": "code",
   "execution_count": 384,
   "metadata": {},
   "outputs": [],
   "source": [
    "bbox.append(\"bbox\")"
   ]
  },
  {
   "cell_type": "code",
   "execution_count": 385,
   "metadata": {},
   "outputs": [],
   "source": [
    "transformed = BBOX_TRANSFORM(image=image, bboxes=[bbox])"
   ]
  },
  {
   "cell_type": "code",
   "execution_count": 386,
   "metadata": {},
   "outputs": [
    {
     "data": {
      "text/plain": [
       "[]"
      ]
     },
     "execution_count": 386,
     "metadata": {},
     "output_type": "execute_result"
    }
   ],
   "source": [
    "transform_bbox = transformed['bboxes']\n",
    "\n",
    "transform_bbox"
   ]
  },
  {
   "cell_type": "code",
   "execution_count": 387,
   "metadata": {},
   "outputs": [
    {
     "ename": "IndexError",
     "evalue": "list index out of range",
     "output_type": "error",
     "traceback": [
      "\u001b[0;31m---------------------------------------------------------------------------\u001b[0m",
      "\u001b[0;31mIndexError\u001b[0m                                Traceback (most recent call last)",
      "Cell \u001b[0;32mIn[387], line 1\u001b[0m\n\u001b[0;32m----> 1\u001b[0m \u001b[38;5;28mlist\u001b[39m(\u001b[43mtransform_bbox\u001b[49m\u001b[43m[\u001b[49m\u001b[38;5;241;43m0\u001b[39;49m\u001b[43m]\u001b[49m)[:\u001b[38;5;241m-\u001b[39m\u001b[38;5;241m1\u001b[39m]\n",
      "\u001b[0;31mIndexError\u001b[0m: list index out of range"
     ]
    }
   ],
   "source": [
    "list(transform_bbox[0])[:-1]"
   ]
  }
 ],
 "metadata": {
  "kernelspec": {
   "display_name": "sam2",
   "language": "python",
   "name": "python3"
  },
  "language_info": {
   "codemirror_mode": {
    "name": "ipython",
    "version": 3
   },
   "file_extension": ".py",
   "mimetype": "text/x-python",
   "name": "python",
   "nbconvert_exporter": "python",
   "pygments_lexer": "ipython3",
   "version": "3.12.3"
  }
 },
 "nbformat": 4,
 "nbformat_minor": 2
}
